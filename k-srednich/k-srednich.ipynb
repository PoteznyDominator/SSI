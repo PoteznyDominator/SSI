{
 "cells": [
  {
   "cell_type": "code",
   "execution_count": 1,
   "outputs": [],
   "source": [
    "import pandas as pd\n",
    "import math\n",
    "import matplotlib.pyplot as plt\n",
    "cmap = ['red', 'yellow', 'black', 'blue', 'pink','magenta','green']"
   ],
   "metadata": {
    "collapsed": false,
    "ExecuteTime": {
     "end_time": "2023-10-24T16:51:04.501731200Z",
     "start_time": "2023-10-24T16:51:04.489714500Z"
    }
   },
   "id": "8dc934742f695aa1"
  },
  {
   "cell_type": "code",
   "execution_count": 2,
   "outputs": [],
   "source": [
    "def k_mean(samples, sample_names, m, iters):\n",
    "    df_names = pd.read_csv(sample_names, sep=\"\\t\", header=None)\n",
    "    df = pd.read_csv(samples, delim_whitespace=True, header=None, names=df_names[0])\n",
    "\n",
    "    random_centers = df.sample(m).values.tolist()\n",
    "    distances = []\n",
    "    min_distances = []\n",
    "    for _ in range(iters):\n",
    "        for s in df.values.tolist():\n",
    "            for v in random_centers:\n",
    "                distances.append(math.dist(s,v))\n",
    "        \n",
    "            min_distances.append(distances.index(min(distances)))\n",
    "            distances.clear()\n",
    "            \n",
    "        for j in range(m):\n",
    "            x_gr = []\n",
    "            for i, z in enumerate(min_distances):\n",
    "                if z == j:\n",
    "                    x_gr.append(df.values[i].tolist())\n",
    "            \n",
    "            if len(x_gr) == 0:\n",
    "                continue\n",
    "            \n",
    "            x_new = 0\n",
    "            y_new = 0\n",
    "            for i in x_gr:\n",
    "                x_new += i[0]\n",
    "                y_new += i[1]\n",
    "                plt.scatter(i[0], i[1], marker='s', facecolors='none', edgecolors=cmap[j])\n",
    "            \n",
    "            random_centers[j] = [x_new / len(x_gr), y_new / len(x_gr)]\n",
    "        for i, center in enumerate(random_centers):\n",
    "            plt.scatter(center[0], center[1], marker='o', s=120, color=cmap[i])\n",
    "        \n",
    "        min_distances.clear()\n",
    "        plt.show()\n",
    "    \n",
    "    \n",
    "k_mean(\"spirala.txt\", \"spirala-type.txt\", 4, 5)"
   ],
   "metadata": {
    "collapsed": false
   },
   "id": "initial_id"
  },
  {
   "cell_type": "code",
   "execution_count": 2,
   "outputs": [],
   "source": [],
   "metadata": {
    "collapsed": false,
    "ExecuteTime": {
     "end_time": "2023-10-24T16:51:11.661666700Z",
     "start_time": "2023-10-24T16:51:11.512012700Z"
    }
   },
   "id": "45023550aab67405"
  }
 ],
 "metadata": {
  "kernelspec": {
   "display_name": "Python 3",
   "language": "python",
   "name": "python3"
  },
  "language_info": {
   "codemirror_mode": {
    "name": "ipython",
    "version": 2
   },
   "file_extension": ".py",
   "mimetype": "text/x-python",
   "name": "python",
   "nbconvert_exporter": "python",
   "pygments_lexer": "ipython2",
   "version": "2.7.6"
  }
 },
 "nbformat": 4,
 "nbformat_minor": 5
}
